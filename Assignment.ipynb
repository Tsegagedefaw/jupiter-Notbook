{
  "metadata": {
    "language_info": {
      "codemirror_mode": {
        "name": "python",
        "version": 3
      },
      "file_extension": ".py",
      "mimetype": "text/x-python",
      "name": "python",
      "nbconvert_exporter": "python",
      "pygments_lexer": "ipython3",
      "version": "3.8"
    },
    "kernelspec": {
      "name": "python",
      "display_name": "Python (Pyodide)",
      "language": "python"
    }
  },
  "nbformat_minor": 4,
  "nbformat": 4,
  "cells": [
    {
      "cell_type": "markdown",
      "source": "## Title Of Notbook",
      "metadata": {}
    },
    {
      "cell_type": "markdown",
      "source": "### introduction",
      "metadata": {}
    },
    {
      "cell_type": "markdown",
      "source": "#### list data science languages\n* python\n* R\n* SQL",
      "metadata": {}
    },
    {
      "cell_type": "markdown",
      "source": "#### list data science libraries\n* pandas\n* numpy\n* Tensorflow",
      "metadata": {}
    },
    {
      "cell_type": "markdown",
      "source": "#### table of Data Science tools\n|Task|Open source|Commercial Tool|Cloud Tool|\n|-----|-----------|---------------|----------|\n|data managment|MySQL|Oracle DB|Cauch DB|\n|data integration|Apache Airflow|Informatic|Informatic|\n|data visualization|Hue|tableau|datameer|\n|model deployment|Seldom|spss|spp|\n|model monitoring|Model DB|all free|watson open scale|",
      "metadata": {}
    },
    {
      "cell_type": "markdown",
      "source": "#### introducing arithmetic expression examples",
      "metadata": {}
    },
    {
      "cell_type": "code",
      "source": "(3*4)+20",
      "metadata": {
        "trusted": true
      },
      "execution_count": 1,
      "outputs": [
        {
          "execution_count": 1,
          "output_type": "execute_result",
          "data": {
            "text/plain": "32"
          },
          "metadata": {}
        }
      ]
    },
    {
      "cell_type": "markdown",
      "source": "##### convert minutes to hours",
      "metadata": {}
    },
    {
      "cell_type": "code",
      "source": "minute = 240;\nhour = minute / 60\nprint(hour,\"hours\")",
      "metadata": {
        "trusted": true
      },
      "execution_count": 2,
      "outputs": [
        {
          "name": "stdout",
          "text": "4.0 hours\n",
          "output_type": "stream"
        }
      ]
    },
    {
      "cell_type": "markdown",
      "source": "#### Objectives",
      "metadata": {}
    },
    {
      "cell_type": "markdown",
      "source": "* Describe the components of a Data Scientist's toolkit and list various tool categories.\n* List examples of open-source tools used in data science.\n* Describe the relevant features of open-source tools.\n* List examples of commercial and cloud-based data science tools.",
      "metadata": {}
    },
    {
      "cell_type": "markdown",
      "source": "#####  Author’s name: tsegalem Gedefaw",
      "metadata": {}
    },
    {
      "cell_type": "code",
      "source": "",
      "metadata": {},
      "execution_count": null,
      "outputs": []
    }
  ]
}